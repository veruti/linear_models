{
 "cells": [
  {
   "cell_type": "code",
   "execution_count": 1,
   "metadata": {},
   "outputs": [
    {
     "data": {
      "text/plain": [
       "[PhysicalDevice(name='/physical_device:CPU:0', device_type='CPU'),\n",
       " PhysicalDevice(name='/physical_device:XLA_CPU:0', device_type='XLA_CPU')]"
      ]
     },
     "execution_count": 1,
     "metadata": {},
     "output_type": "execute_result"
    }
   ],
   "source": [
    "import tensorflow as tf\n",
    "import matplotlib.pyplot as plt\n",
    "import numpy as np\n",
    "import os \n",
    "\n",
    "os.environ[\"KMP_DUPLICATE_LIB_OK\"]='TRUE'\n",
    "os.environ['TF_CPP_MIN_LOG_LEVEL'] = '2'\n",
    "tf.keras.backend.set_floatx('float64')\n",
    "tf.config.list_physical_devices()"
   ]
  },
  {
   "cell_type": "code",
   "execution_count": 15,
   "metadata": {},
   "outputs": [
    {
     "data": {
      "image/png": "[encoded data removed]",
      "text/plain": [
       "<Figure size 432x288 with 1 Axes>"
      ]
     },
     "metadata": {
      "needs_background": "light"
     },
     "output_type": "display_data"
    }
   ],
   "source": [
    "x = np.random.normal(loc=15, scale=10, size=(50, 1))\n",
    "x = np.reshape(x, (-1, 1))\n",
    "\n",
    "y = 10*x*x + 20\n",
    "y += np.random.normal(loc=50, scale=100, size=x.shape)\n",
    "y = np.reshape(y, (-1, 1))\n",
    "\n",
    "plt.scatter(x, y)\n",
    "plt.show()"
   ]
  },
  {
   "cell_type": "code",
   "execution_count": 16,
   "metadata": {},
   "outputs": [],
   "source": [
    "class LinearModel:\n",
    "    def __call__(self, x):\n",
    "        return tf.matmul(x,self.w) + self.b\n",
    "    \n",
    "    def __init__(self, units=1):\n",
    "        w_init = tf.ones_initializer()\n",
    "        self.w = tf.Variable(initial_value=w_init(shape=(units, 1), \n",
    "                                                  dtype=tf.dtypes.float64),\n",
    "                             trainable=True)\n",
    "        \n",
    "        b_init = tf.ones_initializer()\n",
    "        self.b = tf.Variable(initial_value=b_init(shape=(1, 1),\n",
    "                                                  dtype=tf.dtypes.float64),\n",
    "                             trainable=True)\n",
    "        \n",
    "        self.trainable = [self.w, self.b]\n"
   ]
  },
  {
   "cell_type": "code",
   "execution_count": 25,
   "metadata": {},
   "outputs": [],
   "source": [
    "def loss(y_true, y_pred, lr, C):\n",
    "    reg = tf.concat((lr.w, lr.b), 0)\n",
    "    reg = tf.sqrt(tf.matmul(reg, reg, transpose_a=True))[0, 0]\n",
    "    \n",
    "    return tf.reduce_mean(tf.square(tf.subtract(y_pred,y_true))) + C*reg\n",
    "\n",
    "\n",
    "def train_step(x, y_true, lr, learning_rate=0.001, C=1):\n",
    "    with tf.GradientTape() as t:\n",
    "        y_pred = lr(x)\n",
    "        now_loss = loss(y_true, y_pred, lr, C)\n",
    "        \n",
    "        lr_w, lr_b = t.gradient(now_loss, lr.trainable)\n",
    "        \n",
    "        lr.w.assign_sub(learning_rate * lr_w)\n",
    "        lr.b.assign_sub(learning_rate * lr_b)"
   ]
  },
  {
   "cell_type": "code",
   "execution_count": 43,
   "metadata": {
    "scrolled": true
   },
   "outputs": [
    {
     "name": "stdout",
     "output_type": "stream",
     "text": [
      "Epoch: 0. Loss value: 20348018.143075746\n",
      "Epoch: 10. Loss value: 1968633.5183148442\n",
      "Epoch: 20. Loss value: 1962168.269059747\n",
      "Epoch: 30. Loss value: 1955767.1619806443\n",
      "Epoch: 40. Loss value: 1949429.5514317723\n",
      "Epoch: 50. Loss value: 1943154.8069684494\n",
      "Epoch: 60. Loss value: 1936942.3042604427\n",
      "Epoch: 70. Loss value: 1930791.425048955\n"
     ]
    }
   ],
   "source": [
    "losses = []\n",
    "epochs = 80\n",
    "lr = LinearModel(1)\n",
    "C = 0.1\n",
    "\n",
    "for epoch_count in range(epochs):\n",
    "    loss_now = loss(y, lr(x), lr, C)\n",
    "    losses.append(loss_now)\n",
    "    train_step(x, y, lr, C=C)\n",
    "    if epoch_count % 10 == 0:\n",
    "        print(f\"Epoch: {epoch_count}. Loss value: {loss_now}\")"
   ]
  },
  {
   "cell_type": "code",
   "execution_count": 44,
   "metadata": {},
   "outputs": [
    {
     "data": {
      "image/png": "[encoded data removed]",
      "text/plain": [
       "<Figure size 432x288 with 1 Axes>"
      ]
     },
     "metadata": {
      "needs_background": "light"
     },
     "output_type": "display_data"
    }
   ],
   "source": [
    "plt.plot(range(len(losses)), losses)\n",
    "plt.show()"
   ]
  },
  {
   "cell_type": "code",
   "execution_count": 45,
   "metadata": {},
   "outputs": [
    {
     "data": {
      "image/png": "[encoded data removed]",
      "text/plain": [
       "<Figure size 432x288 with 1 Axes>"
      ]
     },
     "metadata": {
      "needs_background": "light"
     },
     "output_type": "display_data"
    }
   ],
   "source": [
    "line = lr(np.array([[-4],[50]], dtype=np.float64))\n",
    "\n",
    "plt.scatter(x, y)\n",
    "plt.plot([[-4],[50]], line, color='r')\n",
    "plt.show()"
   ]
  },
  {
   "cell_type": "code",
   "execution_count": null,
   "metadata": {},
   "outputs": [],
   "source": []
  }
 ],
 "metadata": {
  "kernelspec": {
   "display_name": "Python 3",
   "language": "python",
   "name": "python3"
  },
  "language_info": {
   "codemirror_mode": {
    "name": "ipython",
    "version": 3
   },
   "file_extension": ".py",
   "mimetype": "text/x-python",
   "name": "python",
   "nbconvert_exporter": "python",
   "pygments_lexer": "ipython3",
   "version": "3.7.6"
  }
 },
 "nbformat": 4,
 "nbformat_minor": 4
}
